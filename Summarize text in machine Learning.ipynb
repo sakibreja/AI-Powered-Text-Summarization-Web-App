{
 "cells": [
  {
   "cell_type": "markdown",
   "id": "6a8f634d",
   "metadata": {},
   "source": [
    "# `Summarize text in machine Learning`"
   ]
  },
  {
   "cell_type": "markdown",
   "id": "57d555f5",
   "metadata": {},
   "source": [
    "### `Importing necessaries package` "
   ]
  },
  {
   "cell_type": "code",
   "execution_count": 1,
   "id": "8098ee61",
   "metadata": {},
   "outputs": [],
   "source": [
    "import re\n",
    "import nltk\n",
    "import numpy as np\n",
    "import pandas as pd\n",
    "from nltk.corpus import stopwords"
   ]
  },
  {
   "cell_type": "code",
   "execution_count": 2,
   "id": "38bb697c",
   "metadata": {},
   "outputs": [],
   "source": [
    "# importing the data\n",
    "\n",
    "df = pd.read_csv('https://raw.githubusercontent.com/amankharwal/Website-data/master/tennis.csv')"
   ]
  },
  {
   "cell_type": "code",
   "execution_count": 3,
   "id": "a0f986b2",
   "metadata": {},
   "outputs": [
    {
     "data": {
      "text/html": [
       "<div>\n",
       "<style scoped>\n",
       "    .dataframe tbody tr th:only-of-type {\n",
       "        vertical-align: middle;\n",
       "    }\n",
       "\n",
       "    .dataframe tbody tr th {\n",
       "        vertical-align: top;\n",
       "    }\n",
       "\n",
       "    .dataframe thead th {\n",
       "        text-align: right;\n",
       "    }\n",
       "</style>\n",
       "<table border=\"1\" class=\"dataframe\">\n",
       "  <thead>\n",
       "    <tr style=\"text-align: right;\">\n",
       "      <th></th>\n",
       "      <th>article_id</th>\n",
       "      <th>article_text</th>\n",
       "      <th>source</th>\n",
       "    </tr>\n",
       "  </thead>\n",
       "  <tbody>\n",
       "    <tr>\n",
       "      <th>0</th>\n",
       "      <td>1</td>\n",
       "      <td>Maria Sharapova has basically no friends as te...</td>\n",
       "      <td>https://www.tennisworldusa.org/tennis/news/Mar...</td>\n",
       "    </tr>\n",
       "    <tr>\n",
       "      <th>1</th>\n",
       "      <td>2</td>\n",
       "      <td>BASEL, Switzerland (AP), Roger Federer advance...</td>\n",
       "      <td>http://www.tennis.com/pro-game/2018/10/copil-s...</td>\n",
       "    </tr>\n",
       "    <tr>\n",
       "      <th>2</th>\n",
       "      <td>3</td>\n",
       "      <td>Roger Federer has revealed that organisers of ...</td>\n",
       "      <td>https://scroll.in/field/899938/tennis-roger-fe...</td>\n",
       "    </tr>\n",
       "    <tr>\n",
       "      <th>3</th>\n",
       "      <td>4</td>\n",
       "      <td>Kei Nishikori will try to end his long losing ...</td>\n",
       "      <td>http://www.tennis.com/pro-game/2018/10/nishiko...</td>\n",
       "    </tr>\n",
       "    <tr>\n",
       "      <th>4</th>\n",
       "      <td>5</td>\n",
       "      <td>Federer, 37, first broke through on tour over ...</td>\n",
       "      <td>https://www.express.co.uk/sport/tennis/1036101...</td>\n",
       "    </tr>\n",
       "    <tr>\n",
       "      <th>5</th>\n",
       "      <td>6</td>\n",
       "      <td>Nadal has not played tennis since he was force...</td>\n",
       "      <td>https://www.express.co.uk/sport/tennis/1037119...</td>\n",
       "    </tr>\n",
       "    <tr>\n",
       "      <th>6</th>\n",
       "      <td>7</td>\n",
       "      <td>Tennis giveth, and tennis taketh away. The end...</td>\n",
       "      <td>http://www.tennis.com/pro-game/2018/10/tennisc...</td>\n",
       "    </tr>\n",
       "    <tr>\n",
       "      <th>7</th>\n",
       "      <td>8</td>\n",
       "      <td>Federer won the Swiss Indoors last week by bea...</td>\n",
       "      <td>https://www.express.co.uk/sport/tennis/1038186...</td>\n",
       "    </tr>\n",
       "  </tbody>\n",
       "</table>\n",
       "</div>"
      ],
      "text/plain": [
       "   article_id                                       article_text  \\\n",
       "0           1  Maria Sharapova has basically no friends as te...   \n",
       "1           2  BASEL, Switzerland (AP), Roger Federer advance...   \n",
       "2           3  Roger Federer has revealed that organisers of ...   \n",
       "3           4  Kei Nishikori will try to end his long losing ...   \n",
       "4           5  Federer, 37, first broke through on tour over ...   \n",
       "5           6  Nadal has not played tennis since he was force...   \n",
       "6           7  Tennis giveth, and tennis taketh away. The end...   \n",
       "7           8  Federer won the Swiss Indoors last week by bea...   \n",
       "\n",
       "                                              source  \n",
       "0  https://www.tennisworldusa.org/tennis/news/Mar...  \n",
       "1  http://www.tennis.com/pro-game/2018/10/copil-s...  \n",
       "2  https://scroll.in/field/899938/tennis-roger-fe...  \n",
       "3  http://www.tennis.com/pro-game/2018/10/nishiko...  \n",
       "4  https://www.express.co.uk/sport/tennis/1036101...  \n",
       "5  https://www.express.co.uk/sport/tennis/1037119...  \n",
       "6  http://www.tennis.com/pro-game/2018/10/tennisc...  \n",
       "7  https://www.express.co.uk/sport/tennis/1038186...  "
      ]
     },
     "execution_count": 3,
     "metadata": {},
     "output_type": "execute_result"
    }
   ],
   "source": [
    "df"
   ]
  },
  {
   "cell_type": "code",
   "execution_count": 4,
   "id": "4d655426",
   "metadata": {},
   "outputs": [
    {
     "data": {
      "text/plain": [
       "(8, 3)"
      ]
     },
     "execution_count": 4,
     "metadata": {},
     "output_type": "execute_result"
    }
   ],
   "source": [
    "df.shape"
   ]
  },
  {
   "cell_type": "code",
   "execution_count": 5,
   "id": "160b84a9",
   "metadata": {},
   "outputs": [
    {
     "data": {
      "text/plain": [
       "\"Maria Sharapova has basically no friends as tennis players on the WTA Tour. The Russian player has no problems in openly speaking about it and in a recent interview she said: 'I don't really hide any feelings too much. I think everyone knows this is my job here. When I'm on the courts or when I'm on the court playing, I'm a competitor and I want to beat every single person whether they're in the locker room or across the net.So I'm not the one to strike up a conversation about the weather and know that in the next few minutes I have to go and try to win a tennis match. I'm a pretty competitive girl. I say my hellos, but I'm not sending any players flowers as well. Uhm, I'm not really friendly or close to many players. I have not a lot of friends away from the courts.' When she said she is not really close to a lot of players, is that something strategic that she is doing? Is it different on the men's tour than the women's tour? 'No, not at all. I think just because you're in the same sport doesn't mean that you have to be friends with everyone just because you're categorized, you're a tennis player, so you're going to get along with tennis players. I think every person has different interests. I have friends that have completely different jobs and interests, and I've met them in very different parts of my life. I think everyone just thinks because we're tennis players we should be the greatest of friends. But ultimately tennis is just a very small part of what we do. There are so many other things that we're interested in, that we do.'\""
      ]
     },
     "execution_count": 5,
     "metadata": {},
     "output_type": "execute_result"
    }
   ],
   "source": [
    "df['article_text'][0]"
   ]
  },
  {
   "cell_type": "code",
   "execution_count": 6,
   "id": "a7c91bc8",
   "metadata": {},
   "outputs": [],
   "source": [
    "# split the sequences into the data by tokenizing them using sent tokenize\n",
    "\n",
    "from nltk.tokenize import sent_tokenize\n",
    "sentences = []\n",
    "for sentence in df['article_text']:\n",
    "    sentences.append(sent_tokenize(sentence))"
   ]
  },
  {
   "cell_type": "code",
   "execution_count": 7,
   "id": "9619dd31",
   "metadata": {},
   "outputs": [],
   "source": [
    "sentences = [y for x in sentences for y in x]"
   ]
  },
  {
   "cell_type": "code",
   "execution_count": 8,
   "id": "03b6d315",
   "metadata": {},
   "outputs": [
    {
     "data": {
      "text/plain": [
       "'I think everyone knows this is my job here.'"
      ]
     },
     "execution_count": 8,
     "metadata": {},
     "output_type": "execute_result"
    }
   ],
   "source": [
    "sentences[2]"
   ]
  },
  {
   "cell_type": "code",
   "execution_count": 9,
   "id": "d5a0febd",
   "metadata": {},
   "outputs": [],
   "source": [
    "word_embeddings = {}\n",
    "f = open('glove.6B.100d.txt')\n",
    "for line in f:\n",
    "    values = line.split()\n",
    "    word = values[0]\n",
    "    coefs = np.asarray(values[1:],dtype = 'float32')\n",
    "    word_embeddings[word] = coefs\n",
    "f.close()"
   ]
  },
  {
   "cell_type": "code",
   "execution_count": 10,
   "id": "b211c9d1",
   "metadata": {},
   "outputs": [],
   "source": [
    "clean_sentences = pd.Series(sentences).str.replace(\"[^a-zA-Z]\", \" \")"
   ]
  },
  {
   "cell_type": "code",
   "execution_count": 11,
   "id": "d0dfbc51",
   "metadata": {},
   "outputs": [],
   "source": [
    "clean_sentences = [s.lower() for s in clean_sentences]"
   ]
  },
  {
   "cell_type": "code",
   "execution_count": 12,
   "id": "690e477f",
   "metadata": {},
   "outputs": [],
   "source": [
    "stop_words = stopwords.words('english')\n",
    "def remove_stopwords(sen):\n",
    "    sen_new = \" \".join([i for i in sen if i not in stop_words])\n",
    "    return sen_new\n",
    "clean_sentences = [remove_stopwords(r.split()) for r in clean_sentences]"
   ]
  },
  {
   "cell_type": "code",
   "execution_count": 13,
   "id": "53821145",
   "metadata": {},
   "outputs": [
    {
     "data": {
      "text/plain": [
       "['maria sharapova basically friends tennis players wta tour.',\n",
       " \"russian player problems openly speaking recent interview said: 'i really hide feelings much.\",\n",
       " 'think everyone knows job here.',\n",
       " \"i'm courts i'm court playing, i'm competitor want beat every single person whether they're locker room across net.so i'm one strike conversation weather know next minutes go try win tennis match.\",\n",
       " \"i'm pretty competitive girl.\",\n",
       " \"say hellos, i'm sending players flowers well.\",\n",
       " \"uhm, i'm really friendly close many players.\",\n",
       " \"lot friends away courts.'\",\n",
       " 'said really close lot players, something strategic doing?',\n",
       " \"different men's tour women's tour?\",\n",
       " \"'no, all.\",\n",
       " 'think sport mean friends everyone categorized, tennis player, going get along tennis players.',\n",
       " 'think every person different interests.',\n",
       " \"friends completely different jobs interests, i've met different parts life.\",\n",
       " \"think everyone thinks we're tennis players greatest friends.\",\n",
       " 'ultimately tennis small part do.',\n",
       " \"many things we're interested in, do.'\",\n",
       " 'basel, switzerland (ap), roger federer advanced 14th swiss indoors final career beating seventh-seeded daniil medvedev 6-1, 6-4 saturday.',\n",
       " 'seeking ninth title hometown event, 99th overall, federer play 93th-ranked marius copil sunday.',\n",
       " 'federer dominated 20th-ranked medvedev first match-point chance break serve 5-1.',\n",
       " \"dropped serve love, let another match point slip medvedev's next service game netting backhand.\",\n",
       " 'clinched fourth chance medvedev netted baseline.',\n",
       " 'copil upset expectations federer final alexander zverev 6-3, 6-7 (6), 6-4 win fifth-ranked german earlier semifinal.',\n",
       " 'romanian aims first title arriving basel without career win top-10 opponent.',\n",
       " 'copil two also beating no.',\n",
       " '6 marin cilic second round.',\n",
       " 'copil fired 26 aces past zverev never dropped serve, clinching 2 1/2 hours forehand volley winner break zverev second time semifinal.',\n",
       " \"came two rounds qualifying last weekend reach basel main draw, including beating zverev's older brother, mischa.\",\n",
       " 'federer easier time previous match medvedev, three-setter shanghai two weeks ago.',\n",
       " 'roger federer revealed organisers re-launched condensed davis cup gave three days decide would commit controversial competition.',\n",
       " 'speaking swiss indoors tournament play sundays final romanian qualifier marius copil, world number three said given impossibly short time frame make decision, opted commitment.',\n",
       " '\"they left three days decide\", federer said.',\n",
       " '\"i time consult people consult.',\n",
       " '\"i could make decision time, told wanted.\"',\n",
       " '20-time grand slam champion voiced doubts wisdom one-week format introduced organisers kosmos, promised international tennis federation $3 billion prize money next quarter-century.',\n",
       " 'competition set feature 18 countries november 18-24 finals madrid next year, replace classic home-and-away ties played four times per year decades.',\n",
       " 'kosmos headed barcelona footballer gerard pique, hoping fellow spaniard rafael nadal play upcoming event.',\n",
       " \"novak djokovic said give precedence atp's intended re-launch defunct world team cup january 2020, various australian venues.\",\n",
       " 'major players feel big event late november combined one january australian open mean much tennis little rest.',\n",
       " 'federer said earlier month shanghai chances playing davis cup non-existent.',\n",
       " '\"i highly doubt it, course.',\n",
       " 'see happens,\" said.',\n",
       " '\"i think designed me, anyhow.',\n",
       " 'designed future generation players.\"',\n",
       " 'argentina britain received wild cards new-look event, compete along four 2018 semi-finalists 12 teams win qualifying rounds next february.',\n",
       " '\"i like kind pressure,\" federer said deadline kosmos handed him.',\n",
       " 'kei nishikori try end long losing streak atp finals kevin anderson go second title year erste bank open sunday.',\n",
       " 'fifth-seeded nishikori reached third final 2018 beating mikhail kukushkin kazakhstan 6-4, 6-3 semifinals.',\n",
       " 'winner 11 atp events, nishikori triumphed since winning memphis february 2016.',\n",
       " 'lost eight straight finals since.',\n",
       " 'second-seeded anderson defeated fernando verdasco 6-3, 3-6, 6-4.',\n",
       " 'anderson shot fifth career title second year winning new york february.',\n",
       " 'nishikori leads anderson 4-2 career matchups, south african previous meeting year.',\n",
       " 'victory sunday, anderson qualify atp finals.',\n",
       " 'currently ninth place, nishikori win could move within 125 points cut eight-man event london next month.',\n",
       " 'nishikori held serve throughout kukushkin, came qualifying.',\n",
       " 'used first break point close first set going 3-0 second wrapping win first match point.',\n",
       " 'verdasco, anderson hit nine 19 aces opening set.',\n",
       " \"spaniard broke anderson twice second get another chance south african's serve final set.\",\n",
       " 'federer, 37, first broke tour two decades ago since gone enjoy glittering career.',\n",
       " '20-time grand slam winner chasing 99th atp title swiss indoors week faces jan-lennard struff second round thursday (6pm bst).',\n",
       " 'davenport enjoyed success late 1990s third final major tournament win came 2000 australian open.',\n",
       " 'claims mentality professional tennis players slowly began change new millennium.',\n",
       " '\"it seems pretty friendly right now,\" said davenport.',\n",
       " '\"i think really nice environment great atmosphere, especially veteran players helping younger players out.',\n",
       " '\"it\\'s pleasant atmosphere, i\\'d say, around locker rooms.',\n",
       " '\"i felt like best weeks get know players playing fed cup weeks olympic weeks, necessarily tournaments.',\n",
       " '\"and even though maybe smaller teams, still think kept quite bit.',\n",
       " '\"not always, really feel like mid-2000 years huge shift attitudes top players friendly giving, lot players like roger coming up.',\n",
       " '\"i felt like really kind changed people little bit, definitely 90s, lot quiet, themselves, started become better.\"',\n",
       " 'meanwhile, federer hoping improve service game hunts ninth swiss indoors title week.',\n",
       " '\"i serve well [against first-round opponent filip kranjovic,\" federer said.',\n",
       " '\"i think misfiring corners, hitting lines enough.',\n",
       " '\"clearly make life difficult, still 6-2, 3-1, break points, things could ended quickly today, even though best serve percentage stats.',\n",
       " '\"but maybe that\\'s exactly caught eventually.',\n",
       " 'getting used it.',\n",
       " 'first rounds tricky.\"',\n",
       " 'nadal played tennis since forced retire us open semi-finals juan martin del porto knee injury.',\n",
       " \"world 1 forced miss spain's davis cup clash france asian hard court season.\",\n",
       " 'atp world tour finals due begin next month, nadal ready prove fitness season-ending event 02 arena.',\n",
       " 'nadal flew paris friday footage paris masters official twitter account shows spaniard smiling strides onto court practice.',\n",
       " 'paris masters draw made nadal start campaign tuesday wednesday either fernando verdasco jeremy chardy.',\n",
       " 'nadal could play defending champion jack sock third round potential quarter-final either borna coric dominic thiem.',\n",
       " \"nadal's appearance paris big boost tournament organisers could see roger federer withdraw.\",\n",
       " 'federer action swiss indoors basel reaches final, could pull paris bid stay fresh london.',\n",
       " 'stands, federer draw scheduled face either former world 3 milos raonic jo-wilfried tsonga second round.',\n",
       " \"federer's projected route paris final could also lead matches kevin anderson novak djokovic.\",\n",
       " 'djokovic could play marco cecchinato second round.',\n",
       " 'british 1 kyle edmund 12th seed paris get underway round two either karen khachanov filip krajinovic.',\n",
       " 'tennis giveth, tennis taketh away.',\n",
       " 'end season finally sight, many players defending,or losing,huge chunks points singapore, zhuhai london, podcast co-hosts nina pantic irina falconi discuss art defending points (02:14).',\n",
       " 'secret jack sock struggled singles court year (his record 7-19).',\n",
       " 'could lose 1,400 points next weeks, instead focusing negative, perspective (06:28).',\n",
       " \"let's also forget two grand slam doubles triumphs season.\",\n",
       " 'two players, stefanos tsitsipas kyle edmund, first career atp titles last week (13:26).',\n",
       " 'big deal never forget first.',\n",
       " 'irina looks back wta title win bogota 2016, tells unforgettable story semifinal drama (14:04).',\n",
       " 'singapore, one biggest storylines (aside matches, course) on-court coaching debate.',\n",
       " 'nina irina give opinions coaching look like future, tours (18:55).',\n",
       " 'federer swiss indoors last week beating romanian qualifier marius copil final.',\n",
       " '37-year-old claimed 99th atp title hunting century french capital week.',\n",
       " 'federer handed difficult draw could could come across kevin anderson, novak djokovic rafael nadal latter rounds.',\n",
       " 'first 20-time grand slam winner wants train paris masters court afternoon deciding whether appear opening match either milos raonic jo-wilfried tsonga.',\n",
       " '\"on monday, free look feel,\" federer said winning swiss indoors.',\n",
       " '\"on tuesday fly paris train afternoon ready first match wednesday night.',\n",
       " '\"i felt good week better every day.',\n",
       " '\"we also impression stage might better play matches train.',\n",
       " '\"and long fear injury, play.\"',\n",
       " \"federer's success basel last week ninth time hometown tournament.\",\n",
       " 'delighted watched family friends purchased 60 tickets final dearest him.',\n",
       " '\"my children, parents, sister team there,\" federer added.',\n",
       " '\"it always emotional thank team.',\n",
       " 'sometimes tilts emotions, sometimes stumble.',\n",
       " '\"it means world me.',\n",
       " 'makes incredibly happy win home tournament make people happy here.',\n",
       " '\"i know maybe last title, today try lot absorb enjoy moments much consciously.',\n",
       " '\"maybe celebrate last title.',\n",
       " '\"there touching moments: seeing ball children, standing ovations, familiar faces audience.',\n",
       " 'always easy last weeks.\"']"
      ]
     },
     "execution_count": 13,
     "metadata": {},
     "output_type": "execute_result"
    }
   ],
   "source": [
    "clean_sentences"
   ]
  },
  {
   "cell_type": "code",
   "execution_count": 14,
   "id": "a044e00f",
   "metadata": {},
   "outputs": [],
   "source": [
    "# Create vector for sentences\n",
    "sentence_vector = []\n",
    "for i in clean_sentences:\n",
    "    if len(i) != 0:\n",
    "        v = sum([word_embeddings.get(w,np.zeros((100,))) for w in i.split()]) / (len(i.split()) + 0.001)\n",
    "    else:\n",
    "        v = np.zeros((100,))\n",
    "    sentence_vector.append(v)"
   ]
  },
  {
   "cell_type": "code",
   "execution_count": 15,
   "id": "6fade673",
   "metadata": {},
   "outputs": [],
   "source": [
    "# Finding Similarities to Summarize Text\n",
    "\n",
    "sim_mat = np.zeros([len(sentences), len(sentences)])\n",
    "from sklearn.metrics.pairwise import cosine_similarity\n",
    "for i in range(len(sentences)):\n",
    "    for j in range(len(sentences)):\n",
    "        if i != j:\n",
    "            sim_mat[i][j] = cosine_similarity(sentence_vector[i].reshape(1,100), sentence_vector[j].reshape(1,100))[0,0]"
   ]
  },
  {
   "cell_type": "code",
   "execution_count": 21,
   "id": "d25a721b",
   "metadata": {},
   "outputs": [],
   "source": [
    "import networkx as nx\n",
    "nx_graph = nx.from_numpy_array(sim_mat)\n",
    "scores = nx.pagerank(nx_graph)"
   ]
  },
  {
   "cell_type": "code",
   "execution_count": 22,
   "id": "dd49ec2f",
   "metadata": {},
   "outputs": [
    {
     "name": "stdout",
     "output_type": "stream",
     "text": [
      "ARTICLE\n",
      "Maria Sharapova has basically no friends as tennis players on the WTA Tour. The Russian player has no problems in openly speaking about it and in a recent interview she said: 'I don't really hide any feelings too much. I think everyone knows this is my job here. When I'm on the courts or when I'm on the court playing, I'm a competitor and I want to beat every single person whether they're in the locker room or across the net.So I'm not the one to strike up a conversation about the weather and know that in the next few minutes I have to go and try to win a tennis match. I'm a pretty competitive girl. I say my hellos, but I'm not sending any players flowers as well. Uhm, I'm not really friendly or close to many players. I have not a lot of friends away from the courts.' When she said she is not really close to a lot of players, is that something strategic that she is doing? Is it different on the men's tour than the women's tour? 'No, not at all. I think just because you're in the same sport doesn't mean that you have to be friends with everyone just because you're categorized, you're a tennis player, so you're going to get along with tennis players. I think every person has different interests. I have friends that have completely different jobs and interests, and I've met them in very different parts of my life. I think everyone just thinks because we're tennis players we should be the greatest of friends. But ultimately tennis is just a very small part of what we do. There are so many other things that we're interested in, that we do.'\n",
      "\n",
      "\n",
      "SUMMARY:\n",
      "Major players feel that a big event in late November combined with one in January before the Australian Open will mean too much tennis and too little rest.\n",
      "\n",
      "\n",
      "ARTICLE\n",
      "BASEL, Switzerland (AP), Roger Federer advanced to the 14th Swiss Indoors final of his career by beating seventh-seeded Daniil Medvedev 6-1, 6-4 on Saturday. Seeking a ninth title at his hometown event, and a 99th overall, Federer will play 93th-ranked Marius Copil on Sunday. Federer dominated the 20th-ranked Medvedev and had his first match-point chance to break serve again at 5-1. He then dropped his serve to love, and let another match point slip in Medvedev's next service game by netting a backhand. He clinched on his fourth chance when Medvedev netted from the baseline. Copil upset expectations of a Federer final against Alexander Zverev in a 6-3, 6-7 (6), 6-4 win over the fifth-ranked German in the earlier semifinal. The Romanian aims for a first title after arriving at Basel without a career win over a top-10 opponent. Copil has two after also beating No. 6 Marin Cilic in the second round. Copil fired 26 aces past Zverev and never dropped serve, clinching after 2 1/2 hours with a forehand volley winner to break Zverev for the second time in the semifinal. He came through two rounds of qualifying last weekend to reach the Basel main draw, including beating Zverev's older brother, Mischa. Federer had an easier time than in his only previous match against Medvedev, a three-setter at Shanghai two weeks ago.\n",
      "\n",
      "\n",
      "SUMMARY:\n",
      "Speaking at the Swiss Indoors tournament where he will play in Sundays final against Romanian qualifier Marius Copil, the world number three said that given the impossibly short time frame to make a decision, he opted out of any commitment.\n",
      "\n",
      "\n",
      "ARTICLE\n",
      "Roger Federer has revealed that organisers of the re-launched and condensed Davis Cup gave him three days to decide if he would commit to the controversial competition. Speaking at the Swiss Indoors tournament where he will play in Sundays final against Romanian qualifier Marius Copil, the world number three said that given the impossibly short time frame to make a decision, he opted out of any commitment. \"They only left me three days to decide\", Federer said. \"I didn't to have time to consult with all the people I had to consult. \"I could not make a decision in that time, so I told them to do what they wanted.\" The 20-time Grand Slam champion has voiced doubts about the wisdom of the one-week format to be introduced by organisers Kosmos, who have promised the International Tennis Federation up to $3 billion in prize money over the next quarter-century. The competition is set to feature 18 countries in the November 18-24 finals in Madrid next year, and will replace the classic home-and-away ties played four times per year for decades. Kosmos is headed by Barcelona footballer Gerard Pique, who is hoping fellow Spaniard Rafael Nadal will play in the upcoming event. Novak Djokovic has said he will give precedence to the ATP's intended re-launch of the defunct World Team Cup in January 2020, at various Australian venues. Major players feel that a big event in late November combined with one in January before the Australian Open will mean too much tennis and too little rest. Federer said earlier this month in Shanghai in that his chances of playing the Davis Cup were all but non-existent. \"I highly doubt it, of course. We will see what happens,\" he said. \"I do not think this was designed for me, anyhow. This was designed for the future generation of players.\" Argentina and Britain received wild cards to the new-look event, and will compete along with the four 2018 semi-finalists and the 12 teams who win qualifying rounds next February. \"I don't like being under that kind of pressure,\" Federer said of the deadline Kosmos handed him.\n",
      "\n",
      "\n",
      "SUMMARY:\n",
      "\"I felt like the best weeks that I had to get to know players when I was playing were the Fed Cup weeks or the Olympic weeks, not necessarily during the tournaments.\n",
      "\n",
      "\n",
      "ARTICLE\n",
      "Kei Nishikori will try to end his long losing streak in ATP finals and Kevin Anderson will go for his second title of the year at the Erste Bank Open on Sunday. The fifth-seeded Nishikori reached his third final of 2018 after beating Mikhail Kukushkin of Kazakhstan 6-4, 6-3 in the semifinals. A winner of 11 ATP events, Nishikori hasn't triumphed since winning in Memphis in February 2016. He has lost eight straight finals since. The second-seeded Anderson defeated Fernando Verdasco 6-3, 3-6, 6-4. Anderson has a shot at a fifth career title and second of the year after winning in New York in February. Nishikori leads Anderson 4-2 on career matchups, but the South African won their only previous meeting this year. With a victory on Sunday, Anderson will qualify for the ATP Finals. Currently in ninth place, Nishikori with a win could move to within 125 points of the cut for the eight-man event in London next month. Nishikori held serve throughout against Kukushkin, who came through qualifying. He used his first break point to close out the first set before going up 3-0 in the second and wrapping up the win on his first match point. Against Verdasco, Anderson hit nine of his 19 aces in the opening set. The Spaniard broke Anderson twice in the second but didn't get another chance on the South African's serve in the final set.\n",
      "\n",
      "\n",
      "SUMMARY:\n",
      "When I'm on the courts or when I'm on the court playing, I'm a competitor and I want to beat every single person whether they're in the locker room or across the net.So I'm not the one to strike up a conversation about the weather and know that in the next few minutes I have to go and try to win a tennis match.\n",
      "\n",
      "\n",
      "ARTICLE\n",
      "Federer, 37, first broke through on tour over two decades ago and he has since gone on to enjoy a glittering career. The 20-time Grand Slam winner is chasing his 99th ATP title at the Swiss Indoors this week and he faces Jan-Lennard Struff in the second round on Thursday (6pm BST). Davenport enjoyed most of her success in the late 1990s and her third and final major tournament win came at the 2000 Australian Open. But she claims the mentality of professional tennis players slowly began to change after the new millennium. \"It seems pretty friendly right now,\" said Davenport. \"I think there is a really nice environment and a great atmosphere, especially between some of the veteran players helping some of the younger players out. \"It's a very pleasant atmosphere, I'd have to say, around the locker rooms. \"I felt like the best weeks that I had to get to know players when I was playing were the Fed Cup weeks or the Olympic weeks, not necessarily during the tournaments. \"And even though maybe we had smaller teams, I still think we kept to ourselves quite a bit. \"Not always, but I really feel like in the mid-2000 years there was a huge shift of the attitudes of the top players and being more friendly and being more giving, and a lot of that had to do with players like Roger coming up. \"I just felt like it really kind of changed where people were a little bit, definitely in the 90s, a lot more quiet, into themselves, and then it started to become better.\" Meanwhile, Federer is hoping he can improve his service game as he hunts his ninth Swiss Indoors title this week. \"I didn't serve very well [against first-round opponent Filip Kranjovic,\" Federer said. \"I think I was misfiring the corners, I was not hitting the lines enough. \"Clearly you make your life more difficult, but still I was up 6-2, 3-1, break points, so things could have ended very quickly today, even though I didn't have the best serve percentage stats. \"But maybe that's exactly what caught up to me eventually. It's just getting used to it. This is where the first rounds can be tricky.\"\n",
      "\n",
      "\n",
      "SUMMARY:\n",
      "Federer had an easier time than in his only previous match against Medvedev, a three-setter at Shanghai two weeks ago.\n",
      "\n",
      "\n"
     ]
    }
   ],
   "source": [
    "ranked_sentences = sorted(((scores[i], s) for i, s in enumerate(sentences)), reverse=True)\n",
    "for i in range(5):\n",
    "    print(\"ARTICLE\")\n",
    "    print(df['article_text'][i])\n",
    "    print('\\n')\n",
    "    print(\"SUMMARY:\")\n",
    "    print(ranked_sentences[i][1])\n",
    "    print('\\n')"
   ]
  },
  {
   "cell_type": "code",
   "execution_count": 20,
   "id": "0b138d50",
   "metadata": {},
   "outputs": [
    {
     "name": "stdout",
     "output_type": "stream",
     "text": [
      "ARTICLE\n",
      "Maria Sharapova has basically no friends as tennis players on the WTA Tour. The Russian player has no problems in openly speaking about it and in a recent interview she said: 'I don't really hide any feelings too much. I think everyone knows this is my job here. When I'm on the courts or when I'm on the court playing, I'm a competitor and I want to beat every single person whether they're in the locker room or across the net.So I'm not the one to strike up a conversation about the weather and know that in the next few minutes I have to go and try to win a tennis match. I'm a pretty competitive girl. I say my hellos, but I'm not sending any players flowers as well. Uhm, I'm not really friendly or close to many players. I have not a lot of friends away from the courts.' When she said she is not really close to a lot of players, is that something strategic that she is doing? Is it different on the men's tour than the women's tour? 'No, not at all. I think just because you're in the same sport doesn't mean that you have to be friends with everyone just because you're categorized, you're a tennis player, so you're going to get along with tennis players. I think every person has different interests. I have friends that have completely different jobs and interests, and I've met them in very different parts of my life. I think everyone just thinks because we're tennis players we should be the greatest of friends. But ultimately tennis is just a very small part of what we do. There are so many other things that we're interested in, that we do.'\n",
      "\n",
      "\n",
      "SUMMARY:\n",
      "Major players feel that a big event in late November combined with one in January before the Australian Open will mean too much tennis and too little rest.\n",
      "\n",
      "\n",
      "ARTICLE\n",
      "BASEL, Switzerland (AP), Roger Federer advanced to the 14th Swiss Indoors final of his career by beating seventh-seeded Daniil Medvedev 6-1, 6-4 on Saturday. Seeking a ninth title at his hometown event, and a 99th overall, Federer will play 93th-ranked Marius Copil on Sunday. Federer dominated the 20th-ranked Medvedev and had his first match-point chance to break serve again at 5-1. He then dropped his serve to love, and let another match point slip in Medvedev's next service game by netting a backhand. He clinched on his fourth chance when Medvedev netted from the baseline. Copil upset expectations of a Federer final against Alexander Zverev in a 6-3, 6-7 (6), 6-4 win over the fifth-ranked German in the earlier semifinal. The Romanian aims for a first title after arriving at Basel without a career win over a top-10 opponent. Copil has two after also beating No. 6 Marin Cilic in the second round. Copil fired 26 aces past Zverev and never dropped serve, clinching after 2 1/2 hours with a forehand volley winner to break Zverev for the second time in the semifinal. He came through two rounds of qualifying last weekend to reach the Basel main draw, including beating Zverev's older brother, Mischa. Federer had an easier time than in his only previous match against Medvedev, a three-setter at Shanghai two weeks ago.\n",
      "\n",
      "\n",
      "SUMMARY:\n",
      "Speaking at the Swiss Indoors tournament where he will play in Sundays final against Romanian qualifier Marius Copil, the world number three said that given the impossibly short time frame to make a decision, he opted out of any commitment.\n",
      "\n",
      "\n",
      "ARTICLE\n",
      "Roger Federer has revealed that organisers of the re-launched and condensed Davis Cup gave him three days to decide if he would commit to the controversial competition. Speaking at the Swiss Indoors tournament where he will play in Sundays final against Romanian qualifier Marius Copil, the world number three said that given the impossibly short time frame to make a decision, he opted out of any commitment. \"They only left me three days to decide\", Federer said. \"I didn't to have time to consult with all the people I had to consult. \"I could not make a decision in that time, so I told them to do what they wanted.\" The 20-time Grand Slam champion has voiced doubts about the wisdom of the one-week format to be introduced by organisers Kosmos, who have promised the International Tennis Federation up to $3 billion in prize money over the next quarter-century. The competition is set to feature 18 countries in the November 18-24 finals in Madrid next year, and will replace the classic home-and-away ties played four times per year for decades. Kosmos is headed by Barcelona footballer Gerard Pique, who is hoping fellow Spaniard Rafael Nadal will play in the upcoming event. Novak Djokovic has said he will give precedence to the ATP's intended re-launch of the defunct World Team Cup in January 2020, at various Australian venues. Major players feel that a big event in late November combined with one in January before the Australian Open will mean too much tennis and too little rest. Federer said earlier this month in Shanghai in that his chances of playing the Davis Cup were all but non-existent. \"I highly doubt it, of course. We will see what happens,\" he said. \"I do not think this was designed for me, anyhow. This was designed for the future generation of players.\" Argentina and Britain received wild cards to the new-look event, and will compete along with the four 2018 semi-finalists and the 12 teams who win qualifying rounds next February. \"I don't like being under that kind of pressure,\" Federer said of the deadline Kosmos handed him.\n",
      "\n",
      "\n",
      "SUMMARY:\n",
      "\"I felt like the best weeks that I had to get to know players when I was playing were the Fed Cup weeks or the Olympic weeks, not necessarily during the tournaments.\n",
      "\n",
      "\n",
      "ARTICLE\n",
      "Kei Nishikori will try to end his long losing streak in ATP finals and Kevin Anderson will go for his second title of the year at the Erste Bank Open on Sunday. The fifth-seeded Nishikori reached his third final of 2018 after beating Mikhail Kukushkin of Kazakhstan 6-4, 6-3 in the semifinals. A winner of 11 ATP events, Nishikori hasn't triumphed since winning in Memphis in February 2016. He has lost eight straight finals since. The second-seeded Anderson defeated Fernando Verdasco 6-3, 3-6, 6-4. Anderson has a shot at a fifth career title and second of the year after winning in New York in February. Nishikori leads Anderson 4-2 on career matchups, but the South African won their only previous meeting this year. With a victory on Sunday, Anderson will qualify for the ATP Finals. Currently in ninth place, Nishikori with a win could move to within 125 points of the cut for the eight-man event in London next month. Nishikori held serve throughout against Kukushkin, who came through qualifying. He used his first break point to close out the first set before going up 3-0 in the second and wrapping up the win on his first match point. Against Verdasco, Anderson hit nine of his 19 aces in the opening set. The Spaniard broke Anderson twice in the second but didn't get another chance on the South African's serve in the final set.\n",
      "\n",
      "\n",
      "SUMMARY:\n",
      "When I'm on the courts or when I'm on the court playing, I'm a competitor and I want to beat every single person whether they're in the locker room or across the net.So I'm not the one to strike up a conversation about the weather and know that in the next few minutes I have to go and try to win a tennis match.\n",
      "\n",
      "\n",
      "ARTICLE\n",
      "Federer, 37, first broke through on tour over two decades ago and he has since gone on to enjoy a glittering career. The 20-time Grand Slam winner is chasing his 99th ATP title at the Swiss Indoors this week and he faces Jan-Lennard Struff in the second round on Thursday (6pm BST). Davenport enjoyed most of her success in the late 1990s and her third and final major tournament win came at the 2000 Australian Open. But she claims the mentality of professional tennis players slowly began to change after the new millennium. \"It seems pretty friendly right now,\" said Davenport. \"I think there is a really nice environment and a great atmosphere, especially between some of the veteran players helping some of the younger players out. \"It's a very pleasant atmosphere, I'd have to say, around the locker rooms. \"I felt like the best weeks that I had to get to know players when I was playing were the Fed Cup weeks or the Olympic weeks, not necessarily during the tournaments. \"And even though maybe we had smaller teams, I still think we kept to ourselves quite a bit. \"Not always, but I really feel like in the mid-2000 years there was a huge shift of the attitudes of the top players and being more friendly and being more giving, and a lot of that had to do with players like Roger coming up. \"I just felt like it really kind of changed where people were a little bit, definitely in the 90s, a lot more quiet, into themselves, and then it started to become better.\" Meanwhile, Federer is hoping he can improve his service game as he hunts his ninth Swiss Indoors title this week. \"I didn't serve very well [against first-round opponent Filip Kranjovic,\" Federer said. \"I think I was misfiring the corners, I was not hitting the lines enough. \"Clearly you make your life more difficult, but still I was up 6-2, 3-1, break points, so things could have ended very quickly today, even though I didn't have the best serve percentage stats. \"But maybe that's exactly what caught up to me eventually. It's just getting used to it. This is where the first rounds can be tricky.\"\n",
      "\n",
      "\n",
      "SUMMARY:\n",
      "Federer had an easier time than in his only previous match against Medvedev, a three-setter at Shanghai two weeks ago.\n",
      "\n",
      "\n"
     ]
    }
   ],
   "source": [
    "scores = nx.pagerank(nx_graph)  # Call the pagerank function\n",
    "ranked_sentences = sorted(((scores[i], s) for i, s in enumerate(sentences)), reverse=True)\n",
    "for i in range(5):\n",
    "    print(\"ARTICLE\")\n",
    "    print(df['article_text'][i])\n",
    "    print('\\n')\n",
    "    print(\"SUMMARY:\")\n",
    "    print(ranked_sentences[i][1])\n",
    "    print('\\n')\n"
   ]
  },
  {
   "cell_type": "code",
   "execution_count": null,
   "id": "e96f16d8",
   "metadata": {},
   "outputs": [],
   "source": [
    "# Assuming you have defined `sentences` and `scores` somewhere in your code\n",
    "\n",
    "# Combine scores with sentences and sort by scores\n",
    "ranked_sentences = sorted(((scores[i], s) for i, s in enumerate(sentences)), reverse=True)\n",
    "\n",
    "# Print top 5 sentences along with the original article text\n",
    "for i in range(5):\n",
    "    print(\"ARTICLE\")\n",
    "    print(df['article_text'][i])\n",
    "    print('\\n')\n",
    "    print(\"SUMMARY:\")\n",
    "    print(ranked_sentences[i][1])\n",
    "    print('\\n')\n"
   ]
  },
  {
   "cell_type": "code",
   "execution_count": null,
   "id": "3400decc",
   "metadata": {},
   "outputs": [],
   "source": [
    "print(type(scores))"
   ]
  },
  {
   "cell_type": "code",
   "execution_count": null,
   "id": "d50a3504",
   "metadata": {},
   "outputs": [],
   "source": []
  },
  {
   "cell_type": "code",
   "execution_count": null,
   "id": "110100ac",
   "metadata": {},
   "outputs": [],
   "source": []
  },
  {
   "cell_type": "code",
   "execution_count": null,
   "id": "5458c747",
   "metadata": {},
   "outputs": [],
   "source": []
  }
 ],
 "metadata": {
  "kernelspec": {
   "display_name": "Python 3 (ipykernel)",
   "language": "python",
   "name": "python3"
  },
  "language_info": {
   "codemirror_mode": {
    "name": "ipython",
    "version": 3
   },
   "file_extension": ".py",
   "mimetype": "text/x-python",
   "name": "python",
   "nbconvert_exporter": "python",
   "pygments_lexer": "ipython3",
   "version": "3.10.9"
  }
 },
 "nbformat": 4,
 "nbformat_minor": 5
}
